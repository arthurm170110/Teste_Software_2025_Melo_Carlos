{
 "cells": [
  {
   "cell_type": "code",
   "execution_count": 1,
   "id": "0b7ad0ff",
   "metadata": {},
   "outputs": [
    {
     "name": "stdout",
     "output_type": "stream",
     "text": [
      "Requirement already satisfied: nltk in c:\\users\\usuário\\appdata\\local\\programs\\python\\python311\\lib\\site-packages (3.9.1)\n",
      "Requirement already satisfied: click in c:\\users\\usuário\\appdata\\local\\programs\\python\\python311\\lib\\site-packages (from nltk) (8.2.1)\n",
      "Requirement already satisfied: joblib in c:\\users\\usuário\\appdata\\local\\programs\\python\\python311\\lib\\site-packages (from nltk) (1.5.1)\n",
      "Requirement already satisfied: regex>=2021.8.3 in c:\\users\\usuário\\appdata\\local\\programs\\python\\python311\\lib\\site-packages (from nltk) (2024.11.6)\n",
      "Requirement already satisfied: tqdm in c:\\users\\usuário\\appdata\\local\\programs\\python\\python311\\lib\\site-packages (from nltk) (4.67.1)\n",
      "Requirement already satisfied: colorama in c:\\users\\usuário\\appdata\\local\\programs\\python\\python311\\lib\\site-packages (from click->nltk) (0.4.6)\n",
      "Note: you may need to restart the kernel to use updated packages.\n"
     ]
    }
   ],
   "source": [
    "%pip install nltk"
   ]
  },
  {
   "cell_type": "code",
   "execution_count": 2,
   "id": "4874d79f",
   "metadata": {},
   "outputs": [
    {
     "name": "stderr",
     "output_type": "stream",
     "text": [
      "[nltk_data] Downloading package punkt to\n",
      "[nltk_data]     C:\\Users\\Usuário\\AppData\\Roaming\\nltk_data...\n",
      "[nltk_data]   Package punkt is already up-to-date!\n"
     ]
    },
    {
     "data": {
      "text/plain": [
       "True"
      ]
     },
     "execution_count": 2,
     "metadata": {},
     "output_type": "execute_result"
    }
   ],
   "source": [
    "import nltk\n",
    "import codecs\n",
    "import os\n",
    "\n",
    "nltk.download('punkt')"
   ]
  },
  {
   "cell_type": "code",
   "execution_count": 12,
   "id": "8328270f",
   "metadata": {},
   "outputs": [],
   "source": [
    "texto_original = \"müsli pöök rääk\"\n",
    "nome_arquivo = 'text_bom.txt'\n",
    "\n",
    "\n",
    "with open(nome_arquivo, 'w', encoding='utf-8-sig') as f:\n",
    "    f.write(texto_original)"
   ]
  },
  {
   "cell_type": "code",
   "execution_count": 13,
   "id": "1a9cd6e5",
   "metadata": {},
   "outputs": [
    {
     "name": "stdout",
     "output_type": "stream",
     "text": [
      "O Problema Original\n",
      "\n",
      "Lendo arquivo usando open() padrão:\n",
      "\n",
      "Texto lido (com BOM no início): '\\ufeffmüsli pöök rääk'\n",
      "\n",
      "Resultado da tokenização com NLTK (incorreto):\n",
      "['\\ufeffmüsli', 'pöök', 'rääk']\n"
     ]
    }
   ],
   "source": [
    "print(\"O Problema Original\\n\")\n",
    "\n",
    "\n",
    "print(\"Lendo arquivo usando open() padrão:\\n\")\n",
    "\n",
    "with open(nome_arquivo, 'r', encoding='utf-8') as f:\n",
    "    texto_lido_com_bom = f.read()\n",
    "\n",
    "print(f\"Texto lido (com BOM no início): {repr(texto_lido_com_bom)}\")\n",
    "\n",
    "tokens_incorretos = nltk.word_tokenize(texto_lido_com_bom)\n",
    "print(\"\\nResultado da tokenização com NLTK (incorreto):\")\n",
    "print(tokens_incorretos)\n",
    "\n",
    "# if os.path.exists(nome_arquivo):\n",
    "#     os.remove(nome_arquivo)"
   ]
  },
  {
   "cell_type": "code",
   "execution_count": 10,
   "id": "c0970cf5",
   "metadata": {},
   "outputs": [
    {
     "name": "stdout",
     "output_type": "stream",
     "text": [
      "Solução\n",
      "\n",
      "Texto lido (sem BOM no início): 'müsli pöök rääk'\n",
      "\n",
      "Resultado da tokenização com NLTK (correto):\n",
      "['müsli', 'pöök', 'rääk']\n"
     ]
    }
   ],
   "source": [
    "print(\"Solução\\n\")\n",
    "\n",
    "texto_original = \"müsli pöök rääk\"\n",
    "nome_arquivo = 'text_bom_solucao.txt'\n",
    "\n",
    "with open(nome_arquivo, 'w', encoding='utf-8-sig') as f:\n",
    "    f.write(texto_original)\n",
    "\n",
    "\n",
    "with codecs.open(nome_arquivo, 'r', encoding='utf-8-sig') as f:\n",
    "    texto_lido_corretamente = f.read()\n",
    "\n",
    "print(f\"Texto lido (sem BOM no início): {repr(texto_lido_corretamente)}\")\n",
    "\n",
    "tokens_corretos = nltk.word_tokenize(texto_lido_corretamente)\n",
    "\n",
    "print(\"\\nResultado da tokenização com NLTK (correto):\")\n",
    "print(tokens_corretos)\n",
    "\n",
    "# Limpar o arquivo criado\n",
    "if os.path.exists(nome_arquivo):\n",
    "    os.remove(nome_arquivo)"
   ]
  },
  {
   "cell_type": "code",
   "execution_count": 63,
   "id": "870d862e",
   "metadata": {},
   "outputs": [
    {
     "name": "stdout",
     "output_type": "stream",
     "text": [
      "Raiz do problema:\n",
      "\n",
      "- Quando o aqruivo é salvo utilizando o encoding utf-8-sig, um caractere unicode especial BOM é gerado no início do arquivo.\n",
      "- Ler o arquivo com a funão codecs.open() e encoding 'utf-8-sig' consome o caractere\n",
      "\n",
      "Texto bruto lido incorreto: '\\ufeffmüsli pöök rääk'\n",
      "Texto bruto lido correto:  'müsli pöök rääk'\n"
     ]
    }
   ],
   "source": [
    "print(\"Raiz do problema:\\n\")\n",
    "\n",
    "print(\"- Quando o aqruivo é salvo utilizando o encoding utf-8-sig, um caractere unicode especial BOM é gerado no início do arquivo.\")\n",
    "print(\"- Ler o arquivo com a funão codecs.open() e encoding 'utf-8-sig' consome o caractere\\n\")\n",
    "\n",
    "with open('text.txt', 'r', encoding='utf-8') as f:\n",
    "    text = f.read()\n",
    "\n",
    "print(f\"Texto bruto lido incorreto: {repr(text)}\")\n",
    "\n",
    "with codecs.open('text.txt', 'r', 'utf-8-sig') as f:\n",
    "    text = f.read()\n",
    "\n",
    "print(f\"Texto bruto lido correto:  {repr(text)}\")"
   ]
  }
 ],
 "metadata": {
  "kernelspec": {
   "display_name": "Python 3",
   "language": "python",
   "name": "python3"
  },
  "language_info": {
   "codemirror_mode": {
    "name": "ipython",
    "version": 3
   },
   "file_extension": ".py",
   "mimetype": "text/x-python",
   "name": "python",
   "nbconvert_exporter": "python",
   "pygments_lexer": "ipython3",
   "version": "3.11.3"
  }
 },
 "nbformat": 4,
 "nbformat_minor": 5
}
